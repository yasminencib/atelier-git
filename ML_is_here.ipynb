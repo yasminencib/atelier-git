{
  "nbformat": 4,
  "nbformat_minor": 0,
  "metadata": {
    "colab": {
      "provenance": [],
      "collapsed_sections": [
        "Yjd3BAMV-foE",
        "Py4z2Q-Y3l0U",
        "QPabNaD23r8q",
        "xxhRhCMf1FgE",
        "YV7n5-NO1ax5",
        "MgLVUIgi1q5w",
        "E1zhidBD2G_e",
        "IYGyNUTl2YoB",
        "BBcNEaGw2pcZ",
        "7I5VLMty4QF_",
        "MdcYxYVj3J0z",
        "CsVIZ_lawGVE"
      ],
      "include_colab_link": true
    },
    "kernelspec": {
      "name": "python3",
      "display_name": "Python 3"
    },
    "language_info": {
      "name": "python"
    }
  },
  "cells": [
    {
      "cell_type": "markdown",
      "metadata": {
        "id": "view-in-github",
        "colab_type": "text"
      },
      "source": [
        "<a href=\"https://colab.research.google.com/github/yasminencib/atelier-git/blob/master/ML_is_here.ipynb\" target=\"_parent\"><img src=\"https://colab.research.google.com/assets/colab-badge.svg\" alt=\"Open In Colab\"/></a>"
      ]
    },
    {
      "cell_type": "markdown",
      "source": [
        "**Myocardial infarction complications**"
      ],
      "metadata": {
        "id": "-7fdz-bu00cg"
      }
    },
    {
      "cell_type": "markdown",
      "source": [
        "## Imports"
      ],
      "metadata": {
        "id": "Yjd3BAMV-foE"
      }
    },
    {
      "cell_type": "code",
      "execution_count": null,
      "metadata": {
        "collapsed": true,
        "id": "7PE0nbZam0Fk",
        "outputId": "fb131df5-bea1-4487-8962-fca7eb00fd23",
        "colab": {
          "base_uri": "https://localhost:8080/"
        }
      },
      "outputs": [
        {
          "output_type": "stream",
          "name": "stdout",
          "text": [
            "Requirement already satisfied: ucimlrepo in /usr/local/lib/python3.10/dist-packages (0.0.7)\n",
            "Requirement already satisfied: pandas>=1.0.0 in /usr/local/lib/python3.10/dist-packages (from ucimlrepo) (2.2.2)\n",
            "Requirement already satisfied: certifi>=2020.12.5 in /usr/local/lib/python3.10/dist-packages (from ucimlrepo) (2024.8.30)\n",
            "Requirement already satisfied: numpy>=1.22.4 in /usr/local/lib/python3.10/dist-packages (from pandas>=1.0.0->ucimlrepo) (1.26.4)\n",
            "Requirement already satisfied: python-dateutil>=2.8.2 in /usr/local/lib/python3.10/dist-packages (from pandas>=1.0.0->ucimlrepo) (2.8.2)\n",
            "Requirement already satisfied: pytz>=2020.1 in /usr/local/lib/python3.10/dist-packages (from pandas>=1.0.0->ucimlrepo) (2024.2)\n",
            "Requirement already satisfied: tzdata>=2022.7 in /usr/local/lib/python3.10/dist-packages (from pandas>=1.0.0->ucimlrepo) (2024.2)\n",
            "Requirement already satisfied: six>=1.5 in /usr/local/lib/python3.10/dist-packages (from python-dateutil>=2.8.2->pandas>=1.0.0->ucimlrepo) (1.16.0)\n"
          ]
        }
      ],
      "source": [
        "!pip install ucimlrepo"
      ]
    },
    {
      "cell_type": "code",
      "source": [
        "from sklearn.decomposition import PCA\n",
        "from ucimlrepo import fetch_ucirepo\n",
        "from sklearn.preprocessing import StandardScaler\n",
        "import pandas as pd\n",
        "import matplotlib.pyplot as plt\n",
        "import numpy as np\n",
        "from scipy import stats"
      ],
      "metadata": {
        "id": "CbDk3rP08CrN"
      },
      "execution_count": null,
      "outputs": []
    },
    {
      "cell_type": "markdown",
      "source": [
        "## BO & DSO"
      ],
      "metadata": {
        "id": "Py4z2Q-Y3l0U"
      }
    },
    {
      "cell_type": "markdown",
      "source": [
        "\n",
        "**les BO**                                                         \n",
        "1.   Identifier les complications potentielles après un infarctus du myocarde        \n",
        "  **DSO**                                                         \n",
        "  *CConstruire un modèle de classification (ex. forêt aléatoire, SVM) capable de prédire les complications post-infarctus avec une précision d'au moins 85%.                                                                                                                \n",
        "  \n",
        "\n",
        "2.   Analyser l’impact des différents traitements sur la récupération des patients                                                                       \n",
        "  **DSO**                                                         \n",
        "\n",
        " *Comparer l'efficacité des différents traitements en mesurant la réduction des complications chez les patients traités avec chaque option thérapeutique à l'aide de tests statistiques.                                               \n",
        "\n",
        "\n",
        "3.  Optimiser les interventions de suivi post-infarctus pour réduire les complications.                                                           \n",
        "   **DSO**                                                                      \n",
        " *Développer un modèle prédictif basé sur des séries temporelles pour identifier les moments critiques où les patients sont le plus à risque de complications après leur sortie de l'hôpital."
      ],
      "metadata": {
        "id": "5Xn4ZJgW67PU"
      }
    },
    {
      "cell_type": "markdown",
      "source": [
        "## Data Understanding"
      ],
      "metadata": {
        "id": "QPabNaD23r8q"
      }
    },
    {
      "cell_type": "markdown",
      "source": [
        "####1. Import Data"
      ],
      "metadata": {
        "id": "xxhRhCMf1FgE"
      }
    },
    {
      "cell_type": "code",
      "source": [
        "# fetch dataset\n",
        "myocardial_infarction_complications = fetch_ucirepo(id=579)\n",
        "\n",
        "# data (as pandas dataframes)\n",
        "df = myocardial_infarction_complications.data.features\n",
        "y = myocardial_infarction_complications.data.targets"
      ],
      "metadata": {
        "collapsed": true,
        "id": "YlYUfOyfm-vI"
      },
      "execution_count": null,
      "outputs": []
    },
    {
      "cell_type": "markdown",
      "source": [
        "####2. Basic structure of the dataset"
      ],
      "metadata": {
        "id": "YV7n5-NO1ax5"
      }
    },
    {
      "cell_type": "code",
      "source": [
        "print(\"Shape of the dataset:\", df.shape)  # (Rows, Columns)\n",
        "print(\"Column names:\", df.columns.tolist())"
      ],
      "metadata": {
        "colab": {
          "base_uri": "https://localhost:8080/"
        },
        "id": "XrourerK3_Fo",
        "outputId": "3ca5cee5-0161-4287-f37b-2dd9b2b1ace5"
      },
      "execution_count": null,
      "outputs": [
        {
          "output_type": "stream",
          "name": "stdout",
          "text": [
            "Shape of the dataset: (1700, 111)\n",
            "Column names: ['AGE', 'SEX', 'INF_ANAM', 'STENOK_AN', 'FK_STENOK', 'IBS_POST', 'IBS_NASL', 'GB', 'SIM_GIPERT', 'DLIT_AG', 'ZSN_A', 'nr_11', 'nr_01', 'nr_02', 'nr_03', 'nr_04', 'nr_07', 'nr_08', 'np_01', 'np_04', 'np_05', 'np_07', 'np_08', 'np_09', 'np_10', 'endocr_01', 'endocr_02', 'endocr_03', 'zab_leg_01', 'zab_leg_02', 'zab_leg_03', 'zab_leg_04', 'zab_leg_06', 'S_AD_KBRIG', 'D_AD_KBRIG', 'S_AD_ORIT', 'D_AD_ORIT', 'O_L_POST', 'K_SH_POST', 'MP_TP_POST', 'SVT_POST', 'GT_POST', 'FIB_G_POST', 'ant_im', 'lat_im', 'inf_im', 'post_im', 'IM_PG_P', 'ritm_ecg_p_01', 'ritm_ecg_p_02', 'ritm_ecg_p_04', 'ritm_ecg_p_06', 'ritm_ecg_p_07', 'ritm_ecg_p_08', 'n_r_ecg_p_01', 'n_r_ecg_p_02', 'n_r_ecg_p_03', 'n_r_ecg_p_04', 'n_r_ecg_p_05', 'n_r_ecg_p_06', 'n_r_ecg_p_08', 'n_r_ecg_p_09', 'n_r_ecg_p_10', 'n_p_ecg_p_01', 'n_p_ecg_p_03', 'n_p_ecg_p_04', 'n_p_ecg_p_05', 'n_p_ecg_p_06', 'n_p_ecg_p_07', 'n_p_ecg_p_08', 'n_p_ecg_p_09', 'n_p_ecg_p_10', 'n_p_ecg_p_11', 'n_p_ecg_p_12', 'fibr_ter_01', 'fibr_ter_02', 'fibr_ter_03', 'fibr_ter_05', 'fibr_ter_06', 'fibr_ter_07', 'fibr_ter_08', 'GIPO_K', 'K_BLOOD', 'GIPER_NA', 'NA_BLOOD', 'ALT_BLOOD', 'AST_BLOOD', 'KFK_BLOOD', 'L_BLOOD', 'ROE', 'TIME_B_S', 'R_AB_1_n', 'R_AB_2_n', 'R_AB_3_n', 'NA_KB', 'NOT_NA_KB', 'LID_KB', 'NITR_S', 'NA_R_1_n', 'NA_R_2_n', 'NA_R_3_n', 'NOT_NA_1_n', 'NOT_NA_2_n', 'NOT_NA_3_n', 'LID_S_n', 'B_BLOK_S_n', 'ANT_CA_S_n', 'GEPAR_S_n', 'ASP_S_n', 'TIKL_S_n', 'TRENT_S_n']\n"
          ]
        }
      ]
    },
    {
      "cell_type": "code",
      "source": [
        "print(\"First 5 rows of the dataset:\")\n",
        "df.head()"
      ],
      "metadata": {
        "colab": {
          "base_uri": "https://localhost:8080/"
        },
        "id": "zCQkBOk94Zky",
        "outputId": "e13b3c89-29fb-4c5d-f5f3-becebacfc412"
      },
      "execution_count": null,
      "outputs": [
        {
          "output_type": "stream",
          "name": "stdout",
          "text": [
            "First 5 rows of the dataset:\n"
          ]
        },
        {
          "output_type": "execute_result",
          "data": {
            "text/plain": [
              "    AGE  SEX  INF_ANAM  STENOK_AN  FK_STENOK  IBS_POST  IBS_NASL   GB  \\\n",
              "0  77.0    1       2.0        1.0        1.0       2.0       NaN  3.0   \n",
              "1  55.0    1       1.0        0.0        0.0       0.0       0.0  0.0   \n",
              "2  52.0    1       0.0        0.0        0.0       2.0       NaN  2.0   \n",
              "3  68.0    0       0.0        0.0        0.0       2.0       NaN  2.0   \n",
              "4  60.0    1       0.0        0.0        0.0       2.0       NaN  3.0   \n",
              "\n",
              "   SIM_GIPERT  DLIT_AG  ...  NOT_NA_1_n  NOT_NA_2_n  NOT_NA_3_n  LID_S_n  \\\n",
              "0         0.0      7.0  ...         0.0         0.0         0.0      1.0   \n",
              "1         0.0      0.0  ...         1.0         0.0         0.0      1.0   \n",
              "2         0.0      2.0  ...         3.0         2.0         2.0      1.0   \n",
              "3         0.0      3.0  ...         0.0         0.0         0.0      0.0   \n",
              "4         0.0      7.0  ...         0.0         0.0         0.0      0.0   \n",
              "\n",
              "   B_BLOK_S_n  ANT_CA_S_n  GEPAR_S_n  ASP_S_n  TIKL_S_n  TRENT_S_n  \n",
              "0         0.0         0.0        1.0      1.0       0.0        0.0  \n",
              "1         0.0         1.0        1.0      1.0       0.0        1.0  \n",
              "2         1.0         0.0        1.0      1.0       0.0        0.0  \n",
              "3         0.0         1.0        1.0      1.0       0.0        0.0  \n",
              "4         0.0         1.0        0.0      1.0       0.0        1.0  \n",
              "\n",
              "[5 rows x 111 columns]"
            ],
            "text/html": [
              "\n",
              "  <div id=\"df-75506e13-2353-4169-9a30-f76151f0ca43\" class=\"colab-df-container\">\n",
              "    <div>\n",
              "<style scoped>\n",
              "    .dataframe tbody tr th:only-of-type {\n",
              "        vertical-align: middle;\n",
              "    }\n",
              "\n",
              "    .dataframe tbody tr th {\n",
              "        vertical-align: top;\n",
              "    }\n",
              "\n",
              "    .dataframe thead th {\n",
              "        text-align: right;\n",
              "    }\n",
              "</style>\n",
              "<table border=\"1\" class=\"dataframe\">\n",
              "  <thead>\n",
              "    <tr style=\"text-align: right;\">\n",
              "      <th></th>\n",
              "      <th>AGE</th>\n",
              "      <th>SEX</th>\n",
              "      <th>INF_ANAM</th>\n",
              "      <th>STENOK_AN</th>\n",
              "      <th>FK_STENOK</th>\n",
              "      <th>IBS_POST</th>\n",
              "      <th>IBS_NASL</th>\n",
              "      <th>GB</th>\n",
              "      <th>SIM_GIPERT</th>\n",
              "      <th>DLIT_AG</th>\n",
              "      <th>...</th>\n",
              "      <th>NOT_NA_1_n</th>\n",
              "      <th>NOT_NA_2_n</th>\n",
              "      <th>NOT_NA_3_n</th>\n",
              "      <th>LID_S_n</th>\n",
              "      <th>B_BLOK_S_n</th>\n",
              "      <th>ANT_CA_S_n</th>\n",
              "      <th>GEPAR_S_n</th>\n",
              "      <th>ASP_S_n</th>\n",
              "      <th>TIKL_S_n</th>\n",
              "      <th>TRENT_S_n</th>\n",
              "    </tr>\n",
              "  </thead>\n",
              "  <tbody>\n",
              "    <tr>\n",
              "      <th>0</th>\n",
              "      <td>77.0</td>\n",
              "      <td>1</td>\n",
              "      <td>2.0</td>\n",
              "      <td>1.0</td>\n",
              "      <td>1.0</td>\n",
              "      <td>2.0</td>\n",
              "      <td>NaN</td>\n",
              "      <td>3.0</td>\n",
              "      <td>0.0</td>\n",
              "      <td>7.0</td>\n",
              "      <td>...</td>\n",
              "      <td>0.0</td>\n",
              "      <td>0.0</td>\n",
              "      <td>0.0</td>\n",
              "      <td>1.0</td>\n",
              "      <td>0.0</td>\n",
              "      <td>0.0</td>\n",
              "      <td>1.0</td>\n",
              "      <td>1.0</td>\n",
              "      <td>0.0</td>\n",
              "      <td>0.0</td>\n",
              "    </tr>\n",
              "    <tr>\n",
              "      <th>1</th>\n",
              "      <td>55.0</td>\n",
              "      <td>1</td>\n",
              "      <td>1.0</td>\n",
              "      <td>0.0</td>\n",
              "      <td>0.0</td>\n",
              "      <td>0.0</td>\n",
              "      <td>0.0</td>\n",
              "      <td>0.0</td>\n",
              "      <td>0.0</td>\n",
              "      <td>0.0</td>\n",
              "      <td>...</td>\n",
              "      <td>1.0</td>\n",
              "      <td>0.0</td>\n",
              "      <td>0.0</td>\n",
              "      <td>1.0</td>\n",
              "      <td>0.0</td>\n",
              "      <td>1.0</td>\n",
              "      <td>1.0</td>\n",
              "      <td>1.0</td>\n",
              "      <td>0.0</td>\n",
              "      <td>1.0</td>\n",
              "    </tr>\n",
              "    <tr>\n",
              "      <th>2</th>\n",
              "      <td>52.0</td>\n",
              "      <td>1</td>\n",
              "      <td>0.0</td>\n",
              "      <td>0.0</td>\n",
              "      <td>0.0</td>\n",
              "      <td>2.0</td>\n",
              "      <td>NaN</td>\n",
              "      <td>2.0</td>\n",
              "      <td>0.0</td>\n",
              "      <td>2.0</td>\n",
              "      <td>...</td>\n",
              "      <td>3.0</td>\n",
              "      <td>2.0</td>\n",
              "      <td>2.0</td>\n",
              "      <td>1.0</td>\n",
              "      <td>1.0</td>\n",
              "      <td>0.0</td>\n",
              "      <td>1.0</td>\n",
              "      <td>1.0</td>\n",
              "      <td>0.0</td>\n",
              "      <td>0.0</td>\n",
              "    </tr>\n",
              "    <tr>\n",
              "      <th>3</th>\n",
              "      <td>68.0</td>\n",
              "      <td>0</td>\n",
              "      <td>0.0</td>\n",
              "      <td>0.0</td>\n",
              "      <td>0.0</td>\n",
              "      <td>2.0</td>\n",
              "      <td>NaN</td>\n",
              "      <td>2.0</td>\n",
              "      <td>0.0</td>\n",
              "      <td>3.0</td>\n",
              "      <td>...</td>\n",
              "      <td>0.0</td>\n",
              "      <td>0.0</td>\n",
              "      <td>0.0</td>\n",
              "      <td>0.0</td>\n",
              "      <td>0.0</td>\n",
              "      <td>1.0</td>\n",
              "      <td>1.0</td>\n",
              "      <td>1.0</td>\n",
              "      <td>0.0</td>\n",
              "      <td>0.0</td>\n",
              "    </tr>\n",
              "    <tr>\n",
              "      <th>4</th>\n",
              "      <td>60.0</td>\n",
              "      <td>1</td>\n",
              "      <td>0.0</td>\n",
              "      <td>0.0</td>\n",
              "      <td>0.0</td>\n",
              "      <td>2.0</td>\n",
              "      <td>NaN</td>\n",
              "      <td>3.0</td>\n",
              "      <td>0.0</td>\n",
              "      <td>7.0</td>\n",
              "      <td>...</td>\n",
              "      <td>0.0</td>\n",
              "      <td>0.0</td>\n",
              "      <td>0.0</td>\n",
              "      <td>0.0</td>\n",
              "      <td>0.0</td>\n",
              "      <td>1.0</td>\n",
              "      <td>0.0</td>\n",
              "      <td>1.0</td>\n",
              "      <td>0.0</td>\n",
              "      <td>1.0</td>\n",
              "    </tr>\n",
              "  </tbody>\n",
              "</table>\n",
              "<p>5 rows × 111 columns</p>\n",
              "</div>\n",
              "    <div class=\"colab-df-buttons\">\n",
              "\n",
              "  <div class=\"colab-df-container\">\n",
              "    <button class=\"colab-df-convert\" onclick=\"convertToInteractive('df-75506e13-2353-4169-9a30-f76151f0ca43')\"\n",
              "            title=\"Convert this dataframe to an interactive table.\"\n",
              "            style=\"display:none;\">\n",
              "\n",
              "  <svg xmlns=\"http://www.w3.org/2000/svg\" height=\"24px\" viewBox=\"0 -960 960 960\">\n",
              "    <path d=\"M120-120v-720h720v720H120Zm60-500h600v-160H180v160Zm220 220h160v-160H400v160Zm0 220h160v-160H400v160ZM180-400h160v-160H180v160Zm440 0h160v-160H620v160ZM180-180h160v-160H180v160Zm440 0h160v-160H620v160Z\"/>\n",
              "  </svg>\n",
              "    </button>\n",
              "\n",
              "  <style>\n",
              "    .colab-df-container {\n",
              "      display:flex;\n",
              "      gap: 12px;\n",
              "    }\n",
              "\n",
              "    .colab-df-convert {\n",
              "      background-color: #E8F0FE;\n",
              "      border: none;\n",
              "      border-radius: 50%;\n",
              "      cursor: pointer;\n",
              "      display: none;\n",
              "      fill: #1967D2;\n",
              "      height: 32px;\n",
              "      padding: 0 0 0 0;\n",
              "      width: 32px;\n",
              "    }\n",
              "\n",
              "    .colab-df-convert:hover {\n",
              "      background-color: #E2EBFA;\n",
              "      box-shadow: 0px 1px 2px rgba(60, 64, 67, 0.3), 0px 1px 3px 1px rgba(60, 64, 67, 0.15);\n",
              "      fill: #174EA6;\n",
              "    }\n",
              "\n",
              "    .colab-df-buttons div {\n",
              "      margin-bottom: 4px;\n",
              "    }\n",
              "\n",
              "    [theme=dark] .colab-df-convert {\n",
              "      background-color: #3B4455;\n",
              "      fill: #D2E3FC;\n",
              "    }\n",
              "\n",
              "    [theme=dark] .colab-df-convert:hover {\n",
              "      background-color: #434B5C;\n",
              "      box-shadow: 0px 1px 3px 1px rgba(0, 0, 0, 0.15);\n",
              "      filter: drop-shadow(0px 1px 2px rgba(0, 0, 0, 0.3));\n",
              "      fill: #FFFFFF;\n",
              "    }\n",
              "  </style>\n",
              "\n",
              "    <script>\n",
              "      const buttonEl =\n",
              "        document.querySelector('#df-75506e13-2353-4169-9a30-f76151f0ca43 button.colab-df-convert');\n",
              "      buttonEl.style.display =\n",
              "        google.colab.kernel.accessAllowed ? 'block' : 'none';\n",
              "\n",
              "      async function convertToInteractive(key) {\n",
              "        const element = document.querySelector('#df-75506e13-2353-4169-9a30-f76151f0ca43');\n",
              "        const dataTable =\n",
              "          await google.colab.kernel.invokeFunction('convertToInteractive',\n",
              "                                                    [key], {});\n",
              "        if (!dataTable) return;\n",
              "\n",
              "        const docLinkHtml = 'Like what you see? Visit the ' +\n",
              "          '<a target=\"_blank\" href=https://colab.research.google.com/notebooks/data_table.ipynb>data table notebook</a>'\n",
              "          + ' to learn more about interactive tables.';\n",
              "        element.innerHTML = '';\n",
              "        dataTable['output_type'] = 'display_data';\n",
              "        await google.colab.output.renderOutput(dataTable, element);\n",
              "        const docLink = document.createElement('div');\n",
              "        docLink.innerHTML = docLinkHtml;\n",
              "        element.appendChild(docLink);\n",
              "      }\n",
              "    </script>\n",
              "  </div>\n",
              "\n",
              "\n",
              "<div id=\"df-b8f81302-347b-40d2-9dde-0f2de84aae34\">\n",
              "  <button class=\"colab-df-quickchart\" onclick=\"quickchart('df-b8f81302-347b-40d2-9dde-0f2de84aae34')\"\n",
              "            title=\"Suggest charts\"\n",
              "            style=\"display:none;\">\n",
              "\n",
              "<svg xmlns=\"http://www.w3.org/2000/svg\" height=\"24px\"viewBox=\"0 0 24 24\"\n",
              "     width=\"24px\">\n",
              "    <g>\n",
              "        <path d=\"M19 3H5c-1.1 0-2 .9-2 2v14c0 1.1.9 2 2 2h14c1.1 0 2-.9 2-2V5c0-1.1-.9-2-2-2zM9 17H7v-7h2v7zm4 0h-2V7h2v10zm4 0h-2v-4h2v4z\"/>\n",
              "    </g>\n",
              "</svg>\n",
              "  </button>\n",
              "\n",
              "<style>\n",
              "  .colab-df-quickchart {\n",
              "      --bg-color: #E8F0FE;\n",
              "      --fill-color: #1967D2;\n",
              "      --hover-bg-color: #E2EBFA;\n",
              "      --hover-fill-color: #174EA6;\n",
              "      --disabled-fill-color: #AAA;\n",
              "      --disabled-bg-color: #DDD;\n",
              "  }\n",
              "\n",
              "  [theme=dark] .colab-df-quickchart {\n",
              "      --bg-color: #3B4455;\n",
              "      --fill-color: #D2E3FC;\n",
              "      --hover-bg-color: #434B5C;\n",
              "      --hover-fill-color: #FFFFFF;\n",
              "      --disabled-bg-color: #3B4455;\n",
              "      --disabled-fill-color: #666;\n",
              "  }\n",
              "\n",
              "  .colab-df-quickchart {\n",
              "    background-color: var(--bg-color);\n",
              "    border: none;\n",
              "    border-radius: 50%;\n",
              "    cursor: pointer;\n",
              "    display: none;\n",
              "    fill: var(--fill-color);\n",
              "    height: 32px;\n",
              "    padding: 0;\n",
              "    width: 32px;\n",
              "  }\n",
              "\n",
              "  .colab-df-quickchart:hover {\n",
              "    background-color: var(--hover-bg-color);\n",
              "    box-shadow: 0 1px 2px rgba(60, 64, 67, 0.3), 0 1px 3px 1px rgba(60, 64, 67, 0.15);\n",
              "    fill: var(--button-hover-fill-color);\n",
              "  }\n",
              "\n",
              "  .colab-df-quickchart-complete:disabled,\n",
              "  .colab-df-quickchart-complete:disabled:hover {\n",
              "    background-color: var(--disabled-bg-color);\n",
              "    fill: var(--disabled-fill-color);\n",
              "    box-shadow: none;\n",
              "  }\n",
              "\n",
              "  .colab-df-spinner {\n",
              "    border: 2px solid var(--fill-color);\n",
              "    border-color: transparent;\n",
              "    border-bottom-color: var(--fill-color);\n",
              "    animation:\n",
              "      spin 1s steps(1) infinite;\n",
              "  }\n",
              "\n",
              "  @keyframes spin {\n",
              "    0% {\n",
              "      border-color: transparent;\n",
              "      border-bottom-color: var(--fill-color);\n",
              "      border-left-color: var(--fill-color);\n",
              "    }\n",
              "    20% {\n",
              "      border-color: transparent;\n",
              "      border-left-color: var(--fill-color);\n",
              "      border-top-color: var(--fill-color);\n",
              "    }\n",
              "    30% {\n",
              "      border-color: transparent;\n",
              "      border-left-color: var(--fill-color);\n",
              "      border-top-color: var(--fill-color);\n",
              "      border-right-color: var(--fill-color);\n",
              "    }\n",
              "    40% {\n",
              "      border-color: transparent;\n",
              "      border-right-color: var(--fill-color);\n",
              "      border-top-color: var(--fill-color);\n",
              "    }\n",
              "    60% {\n",
              "      border-color: transparent;\n",
              "      border-right-color: var(--fill-color);\n",
              "    }\n",
              "    80% {\n",
              "      border-color: transparent;\n",
              "      border-right-color: var(--fill-color);\n",
              "      border-bottom-color: var(--fill-color);\n",
              "    }\n",
              "    90% {\n",
              "      border-color: transparent;\n",
              "      border-bottom-color: var(--fill-color);\n",
              "    }\n",
              "  }\n",
              "</style>\n",
              "\n",
              "  <script>\n",
              "    async function quickchart(key) {\n",
              "      const quickchartButtonEl =\n",
              "        document.querySelector('#' + key + ' button');\n",
              "      quickchartButtonEl.disabled = true;  // To prevent multiple clicks.\n",
              "      quickchartButtonEl.classList.add('colab-df-spinner');\n",
              "      try {\n",
              "        const charts = await google.colab.kernel.invokeFunction(\n",
              "            'suggestCharts', [key], {});\n",
              "      } catch (error) {\n",
              "        console.error('Error during call to suggestCharts:', error);\n",
              "      }\n",
              "      quickchartButtonEl.classList.remove('colab-df-spinner');\n",
              "      quickchartButtonEl.classList.add('colab-df-quickchart-complete');\n",
              "    }\n",
              "    (() => {\n",
              "      let quickchartButtonEl =\n",
              "        document.querySelector('#df-b8f81302-347b-40d2-9dde-0f2de84aae34 button');\n",
              "      quickchartButtonEl.style.display =\n",
              "        google.colab.kernel.accessAllowed ? 'block' : 'none';\n",
              "    })();\n",
              "  </script>\n",
              "</div>\n",
              "\n",
              "    </div>\n",
              "  </div>\n"
            ],
            "application/vnd.google.colaboratory.intrinsic+json": {
              "type": "dataframe",
              "variable_name": "df"
            }
          },
          "metadata": {},
          "execution_count": 55
        }
      ]
    },
    {
      "cell_type": "markdown",
      "source": [
        "#### 3. Check for missing values\n"
      ],
      "metadata": {
        "id": "MgLVUIgi1q5w"
      }
    },
    {
      "cell_type": "code",
      "source": [
        "print(\"Missing values in each column:\")\n",
        "# print(df.isnull().sum().tolist())\n",
        "df.isnull().sum().tolist()"
      ],
      "metadata": {
        "colab": {
          "base_uri": "https://localhost:8080/"
        },
        "id": "tB-Qqmur5RC1",
        "outputId": "0feb9bbf-92fd-40dc-f0d5-594379acf10c"
      },
      "execution_count": null,
      "outputs": [
        {
          "output_type": "stream",
          "name": "stdout",
          "text": [
            "Missing values in each column:\n"
          ]
        },
        {
          "output_type": "execute_result",
          "data": {
            "text/plain": [
              "[8,\n",
              " 0,\n",
              " 4,\n",
              " 106,\n",
              " 73,\n",
              " 51,\n",
              " 1628,\n",
              " 9,\n",
              " 8,\n",
              " 248,\n",
              " 54,\n",
              " 21,\n",
              " 21,\n",
              " 21,\n",
              " 21,\n",
              " 21,\n",
              " 21,\n",
              " 21,\n",
              " 18,\n",
              " 18,\n",
              " 18,\n",
              " 18,\n",
              " 18,\n",
              " 18,\n",
              " 18,\n",
              " 11,\n",
              " 10,\n",
              " 10,\n",
              " 7,\n",
              " 7,\n",
              " 7,\n",
              " 7,\n",
              " 7,\n",
              " 1076,\n",
              " 1076,\n",
              " 267,\n",
              " 267,\n",
              " 12,\n",
              " 15,\n",
              " 14,\n",
              " 12,\n",
              " 12,\n",
              " 12,\n",
              " 83,\n",
              " 80,\n",
              " 80,\n",
              " 72,\n",
              " 1,\n",
              " 152,\n",
              " 152,\n",
              " 152,\n",
              " 152,\n",
              " 152,\n",
              " 152,\n",
              " 115,\n",
              " 115,\n",
              " 115,\n",
              " 115,\n",
              " 115,\n",
              " 115,\n",
              " 115,\n",
              " 115,\n",
              " 115,\n",
              " 115,\n",
              " 115,\n",
              " 115,\n",
              " 115,\n",
              " 115,\n",
              " 115,\n",
              " 115,\n",
              " 115,\n",
              " 115,\n",
              " 115,\n",
              " 115,\n",
              " 10,\n",
              " 10,\n",
              " 10,\n",
              " 10,\n",
              " 10,\n",
              " 10,\n",
              " 10,\n",
              " 369,\n",
              " 371,\n",
              " 375,\n",
              " 375,\n",
              " 284,\n",
              " 285,\n",
              " 1696,\n",
              " 125,\n",
              " 203,\n",
              " 126,\n",
              " 16,\n",
              " 108,\n",
              " 128,\n",
              " 657,\n",
              " 686,\n",
              " 677,\n",
              " 9,\n",
              " 5,\n",
              " 108,\n",
              " 131,\n",
              " 10,\n",
              " 110,\n",
              " 131,\n",
              " 10,\n",
              " 11,\n",
              " 13,\n",
              " 17,\n",
              " 17,\n",
              " 16,\n",
              " 16]"
            ]
          },
          "metadata": {},
          "execution_count": 56
        }
      ]
    },
    {
      "cell_type": "markdown",
      "source": [
        "-> There are columns that are completly missing\n",
        "-> Others to fill missing values"
      ],
      "metadata": {
        "id": "amdW3v7o14-H"
      }
    },
    {
      "cell_type": "markdown",
      "source": [
        "#### 4. Data types of each column\n"
      ],
      "metadata": {
        "id": "E1zhidBD2G_e"
      }
    },
    {
      "cell_type": "code",
      "source": [
        "print(\"\\nData types of each column:\")\n",
        "print(df.dtypes.tolist())"
      ],
      "metadata": {
        "colab": {
          "base_uri": "https://localhost:8080/"
        },
        "id": "_rWiRfkD5Zgc",
        "outputId": "d6b73102-73bd-4a93-adf8-9a2249bfca27"
      },
      "execution_count": null,
      "outputs": [
        {
          "output_type": "stream",
          "name": "stdout",
          "text": [
            "\n",
            "Data types of each column:\n",
            "[dtype('float64'), dtype('int64'), dtype('float64'), dtype('float64'), dtype('float64'), dtype('float64'), dtype('float64'), dtype('float64'), dtype('float64'), dtype('float64'), dtype('float64'), dtype('float64'), dtype('float64'), dtype('float64'), dtype('float64'), dtype('float64'), dtype('float64'), dtype('float64'), dtype('float64'), dtype('float64'), dtype('float64'), dtype('float64'), dtype('float64'), dtype('float64'), dtype('float64'), dtype('float64'), dtype('float64'), dtype('float64'), dtype('float64'), dtype('float64'), dtype('float64'), dtype('float64'), dtype('float64'), dtype('float64'), dtype('float64'), dtype('float64'), dtype('float64'), dtype('float64'), dtype('float64'), dtype('float64'), dtype('float64'), dtype('float64'), dtype('float64'), dtype('float64'), dtype('float64'), dtype('float64'), dtype('float64'), dtype('float64'), dtype('float64'), dtype('float64'), dtype('float64'), dtype('float64'), dtype('float64'), dtype('float64'), dtype('float64'), dtype('float64'), dtype('float64'), dtype('float64'), dtype('float64'), dtype('float64'), dtype('float64'), dtype('float64'), dtype('float64'), dtype('float64'), dtype('float64'), dtype('float64'), dtype('float64'), dtype('float64'), dtype('float64'), dtype('float64'), dtype('float64'), dtype('float64'), dtype('float64'), dtype('float64'), dtype('float64'), dtype('float64'), dtype('float64'), dtype('float64'), dtype('float64'), dtype('float64'), dtype('float64'), dtype('float64'), dtype('float64'), dtype('float64'), dtype('float64'), dtype('float64'), dtype('float64'), dtype('float64'), dtype('float64'), dtype('float64'), dtype('float64'), dtype('float64'), dtype('float64'), dtype('float64'), dtype('float64'), dtype('float64'), dtype('float64'), dtype('float64'), dtype('float64'), dtype('float64'), dtype('float64'), dtype('float64'), dtype('float64'), dtype('float64'), dtype('float64'), dtype('float64'), dtype('float64'), dtype('float64'), dtype('float64'), dtype('float64'), dtype('float64')]\n"
          ]
        }
      ]
    },
    {
      "cell_type": "markdown",
      "source": [
        "-> All data is numerical"
      ],
      "metadata": {
        "id": "IohpmLNf2Uu4"
      }
    },
    {
      "cell_type": "markdown",
      "source": [
        "#### 5. Summary statistics for numerical columns\n"
      ],
      "metadata": {
        "id": "IYGyNUTl2YoB"
      }
    },
    {
      "cell_type": "code",
      "source": [
        "print(\"\\nSummary statistics for numerical columns:\")\n",
        "df.describe()"
      ],
      "metadata": {
        "colab": {
          "base_uri": "https://localhost:8080/"
        },
        "id": "cJTN8FsS5dCK",
        "outputId": "3197ea3a-1296-44e7-f982-73fd284b2ba7"
      },
      "execution_count": null,
      "outputs": [
        {
          "output_type": "stream",
          "name": "stdout",
          "text": [
            "\n",
            "Summary statistics for numerical columns:\n"
          ]
        },
        {
          "output_type": "execute_result",
          "data": {
            "text/plain": [
              "               AGE          SEX     INF_ANAM    STENOK_AN    FK_STENOK  \\\n",
              "count  1692.000000  1700.000000  1696.000000  1594.000000  1627.000000   \n",
              "mean     61.856974     0.626471     0.554835     2.316186     1.205286   \n",
              "std      11.259936     0.483883     0.836801     2.440586     1.040814   \n",
              "min      26.000000     0.000000     0.000000     0.000000     0.000000   \n",
              "25%      54.000000     0.000000     0.000000     0.000000     0.000000   \n",
              "50%      63.000000     1.000000     0.000000     1.000000     2.000000   \n",
              "75%      70.000000     1.000000     1.000000     5.000000     2.000000   \n",
              "max      92.000000     1.000000     3.000000     6.000000     4.000000   \n",
              "\n",
              "          IBS_POST  IBS_NASL           GB   SIM_GIPERT      DLIT_AG  ...  \\\n",
              "count  1649.000000  72.00000  1691.000000  1692.000000  1452.000000  ...   \n",
              "mean      1.160703   0.37500     1.393258     0.033688     3.340220  ...   \n",
              "std       0.801400   0.48752     1.088803     0.180478     3.098646  ...   \n",
              "min       0.000000   0.00000     0.000000     0.000000     0.000000  ...   \n",
              "25%       0.000000   0.00000     0.000000     0.000000     0.000000  ...   \n",
              "50%       1.000000   0.00000     2.000000     0.000000     3.000000  ...   \n",
              "75%       2.000000   1.00000     2.000000     0.000000     7.000000  ...   \n",
              "max       2.000000   1.00000     3.000000     1.000000     7.000000  ...   \n",
              "\n",
              "        NOT_NA_1_n   NOT_NA_2_n   NOT_NA_3_n      LID_S_n   B_BLOK_S_n  \\\n",
              "count  1690.000000  1590.000000  1569.000000  1690.000000  1689.000000   \n",
              "mean      0.331953     0.113208     0.084767     0.283432     0.127294   \n",
              "std       0.628311     0.399514     0.355107     0.450798     0.333401   \n",
              "min       0.000000     0.000000     0.000000     0.000000     0.000000   \n",
              "25%       0.000000     0.000000     0.000000     0.000000     0.000000   \n",
              "50%       0.000000     0.000000     0.000000     0.000000     0.000000   \n",
              "75%       1.000000     0.000000     0.000000     1.000000     0.000000   \n",
              "max       4.000000     3.000000     2.000000     1.000000     1.000000   \n",
              "\n",
              "        ANT_CA_S_n    GEPAR_S_n      ASP_S_n     TIKL_S_n    TRENT_S_n  \n",
              "count  1687.000000  1683.000000  1683.000000  1684.000000  1684.000000  \n",
              "mean      0.666864     0.714795     0.743910     0.017815     0.202494  \n",
              "std       0.471474     0.451646     0.436602     0.132317     0.401978  \n",
              "min       0.000000     0.000000     0.000000     0.000000     0.000000  \n",
              "25%       0.000000     0.000000     0.000000     0.000000     0.000000  \n",
              "50%       1.000000     1.000000     1.000000     0.000000     0.000000  \n",
              "75%       1.000000     1.000000     1.000000     0.000000     0.000000  \n",
              "max       1.000000     1.000000     1.000000     1.000000     1.000000  \n",
              "\n",
              "[8 rows x 111 columns]"
            ],
            "text/html": [
              "\n",
              "  <div id=\"df-a9e2cdfb-92c1-470a-b862-449389680bc4\" class=\"colab-df-container\">\n",
              "    <div>\n",
              "<style scoped>\n",
              "    .dataframe tbody tr th:only-of-type {\n",
              "        vertical-align: middle;\n",
              "    }\n",
              "\n",
              "    .dataframe tbody tr th {\n",
              "        vertical-align: top;\n",
              "    }\n",
              "\n",
              "    .dataframe thead th {\n",
              "        text-align: right;\n",
              "    }\n",
              "</style>\n",
              "<table border=\"1\" class=\"dataframe\">\n",
              "  <thead>\n",
              "    <tr style=\"text-align: right;\">\n",
              "      <th></th>\n",
              "      <th>AGE</th>\n",
              "      <th>SEX</th>\n",
              "      <th>INF_ANAM</th>\n",
              "      <th>STENOK_AN</th>\n",
              "      <th>FK_STENOK</th>\n",
              "      <th>IBS_POST</th>\n",
              "      <th>IBS_NASL</th>\n",
              "      <th>GB</th>\n",
              "      <th>SIM_GIPERT</th>\n",
              "      <th>DLIT_AG</th>\n",
              "      <th>...</th>\n",
              "      <th>NOT_NA_1_n</th>\n",
              "      <th>NOT_NA_2_n</th>\n",
              "      <th>NOT_NA_3_n</th>\n",
              "      <th>LID_S_n</th>\n",
              "      <th>B_BLOK_S_n</th>\n",
              "      <th>ANT_CA_S_n</th>\n",
              "      <th>GEPAR_S_n</th>\n",
              "      <th>ASP_S_n</th>\n",
              "      <th>TIKL_S_n</th>\n",
              "      <th>TRENT_S_n</th>\n",
              "    </tr>\n",
              "  </thead>\n",
              "  <tbody>\n",
              "    <tr>\n",
              "      <th>count</th>\n",
              "      <td>1692.000000</td>\n",
              "      <td>1700.000000</td>\n",
              "      <td>1696.000000</td>\n",
              "      <td>1594.000000</td>\n",
              "      <td>1627.000000</td>\n",
              "      <td>1649.000000</td>\n",
              "      <td>72.00000</td>\n",
              "      <td>1691.000000</td>\n",
              "      <td>1692.000000</td>\n",
              "      <td>1452.000000</td>\n",
              "      <td>...</td>\n",
              "      <td>1690.000000</td>\n",
              "      <td>1590.000000</td>\n",
              "      <td>1569.000000</td>\n",
              "      <td>1690.000000</td>\n",
              "      <td>1689.000000</td>\n",
              "      <td>1687.000000</td>\n",
              "      <td>1683.000000</td>\n",
              "      <td>1683.000000</td>\n",
              "      <td>1684.000000</td>\n",
              "      <td>1684.000000</td>\n",
              "    </tr>\n",
              "    <tr>\n",
              "      <th>mean</th>\n",
              "      <td>61.856974</td>\n",
              "      <td>0.626471</td>\n",
              "      <td>0.554835</td>\n",
              "      <td>2.316186</td>\n",
              "      <td>1.205286</td>\n",
              "      <td>1.160703</td>\n",
              "      <td>0.37500</td>\n",
              "      <td>1.393258</td>\n",
              "      <td>0.033688</td>\n",
              "      <td>3.340220</td>\n",
              "      <td>...</td>\n",
              "      <td>0.331953</td>\n",
              "      <td>0.113208</td>\n",
              "      <td>0.084767</td>\n",
              "      <td>0.283432</td>\n",
              "      <td>0.127294</td>\n",
              "      <td>0.666864</td>\n",
              "      <td>0.714795</td>\n",
              "      <td>0.743910</td>\n",
              "      <td>0.017815</td>\n",
              "      <td>0.202494</td>\n",
              "    </tr>\n",
              "    <tr>\n",
              "      <th>std</th>\n",
              "      <td>11.259936</td>\n",
              "      <td>0.483883</td>\n",
              "      <td>0.836801</td>\n",
              "      <td>2.440586</td>\n",
              "      <td>1.040814</td>\n",
              "      <td>0.801400</td>\n",
              "      <td>0.48752</td>\n",
              "      <td>1.088803</td>\n",
              "      <td>0.180478</td>\n",
              "      <td>3.098646</td>\n",
              "      <td>...</td>\n",
              "      <td>0.628311</td>\n",
              "      <td>0.399514</td>\n",
              "      <td>0.355107</td>\n",
              "      <td>0.450798</td>\n",
              "      <td>0.333401</td>\n",
              "      <td>0.471474</td>\n",
              "      <td>0.451646</td>\n",
              "      <td>0.436602</td>\n",
              "      <td>0.132317</td>\n",
              "      <td>0.401978</td>\n",
              "    </tr>\n",
              "    <tr>\n",
              "      <th>min</th>\n",
              "      <td>26.000000</td>\n",
              "      <td>0.000000</td>\n",
              "      <td>0.000000</td>\n",
              "      <td>0.000000</td>\n",
              "      <td>0.000000</td>\n",
              "      <td>0.000000</td>\n",
              "      <td>0.00000</td>\n",
              "      <td>0.000000</td>\n",
              "      <td>0.000000</td>\n",
              "      <td>0.000000</td>\n",
              "      <td>...</td>\n",
              "      <td>0.000000</td>\n",
              "      <td>0.000000</td>\n",
              "      <td>0.000000</td>\n",
              "      <td>0.000000</td>\n",
              "      <td>0.000000</td>\n",
              "      <td>0.000000</td>\n",
              "      <td>0.000000</td>\n",
              "      <td>0.000000</td>\n",
              "      <td>0.000000</td>\n",
              "      <td>0.000000</td>\n",
              "    </tr>\n",
              "    <tr>\n",
              "      <th>25%</th>\n",
              "      <td>54.000000</td>\n",
              "      <td>0.000000</td>\n",
              "      <td>0.000000</td>\n",
              "      <td>0.000000</td>\n",
              "      <td>0.000000</td>\n",
              "      <td>0.000000</td>\n",
              "      <td>0.00000</td>\n",
              "      <td>0.000000</td>\n",
              "      <td>0.000000</td>\n",
              "      <td>0.000000</td>\n",
              "      <td>...</td>\n",
              "      <td>0.000000</td>\n",
              "      <td>0.000000</td>\n",
              "      <td>0.000000</td>\n",
              "      <td>0.000000</td>\n",
              "      <td>0.000000</td>\n",
              "      <td>0.000000</td>\n",
              "      <td>0.000000</td>\n",
              "      <td>0.000000</td>\n",
              "      <td>0.000000</td>\n",
              "      <td>0.000000</td>\n",
              "    </tr>\n",
              "    <tr>\n",
              "      <th>50%</th>\n",
              "      <td>63.000000</td>\n",
              "      <td>1.000000</td>\n",
              "      <td>0.000000</td>\n",
              "      <td>1.000000</td>\n",
              "      <td>2.000000</td>\n",
              "      <td>1.000000</td>\n",
              "      <td>0.00000</td>\n",
              "      <td>2.000000</td>\n",
              "      <td>0.000000</td>\n",
              "      <td>3.000000</td>\n",
              "      <td>...</td>\n",
              "      <td>0.000000</td>\n",
              "      <td>0.000000</td>\n",
              "      <td>0.000000</td>\n",
              "      <td>0.000000</td>\n",
              "      <td>0.000000</td>\n",
              "      <td>1.000000</td>\n",
              "      <td>1.000000</td>\n",
              "      <td>1.000000</td>\n",
              "      <td>0.000000</td>\n",
              "      <td>0.000000</td>\n",
              "    </tr>\n",
              "    <tr>\n",
              "      <th>75%</th>\n",
              "      <td>70.000000</td>\n",
              "      <td>1.000000</td>\n",
              "      <td>1.000000</td>\n",
              "      <td>5.000000</td>\n",
              "      <td>2.000000</td>\n",
              "      <td>2.000000</td>\n",
              "      <td>1.00000</td>\n",
              "      <td>2.000000</td>\n",
              "      <td>0.000000</td>\n",
              "      <td>7.000000</td>\n",
              "      <td>...</td>\n",
              "      <td>1.000000</td>\n",
              "      <td>0.000000</td>\n",
              "      <td>0.000000</td>\n",
              "      <td>1.000000</td>\n",
              "      <td>0.000000</td>\n",
              "      <td>1.000000</td>\n",
              "      <td>1.000000</td>\n",
              "      <td>1.000000</td>\n",
              "      <td>0.000000</td>\n",
              "      <td>0.000000</td>\n",
              "    </tr>\n",
              "    <tr>\n",
              "      <th>max</th>\n",
              "      <td>92.000000</td>\n",
              "      <td>1.000000</td>\n",
              "      <td>3.000000</td>\n",
              "      <td>6.000000</td>\n",
              "      <td>4.000000</td>\n",
              "      <td>2.000000</td>\n",
              "      <td>1.00000</td>\n",
              "      <td>3.000000</td>\n",
              "      <td>1.000000</td>\n",
              "      <td>7.000000</td>\n",
              "      <td>...</td>\n",
              "      <td>4.000000</td>\n",
              "      <td>3.000000</td>\n",
              "      <td>2.000000</td>\n",
              "      <td>1.000000</td>\n",
              "      <td>1.000000</td>\n",
              "      <td>1.000000</td>\n",
              "      <td>1.000000</td>\n",
              "      <td>1.000000</td>\n",
              "      <td>1.000000</td>\n",
              "      <td>1.000000</td>\n",
              "    </tr>\n",
              "  </tbody>\n",
              "</table>\n",
              "<p>8 rows × 111 columns</p>\n",
              "</div>\n",
              "    <div class=\"colab-df-buttons\">\n",
              "\n",
              "  <div class=\"colab-df-container\">\n",
              "    <button class=\"colab-df-convert\" onclick=\"convertToInteractive('df-a9e2cdfb-92c1-470a-b862-449389680bc4')\"\n",
              "            title=\"Convert this dataframe to an interactive table.\"\n",
              "            style=\"display:none;\">\n",
              "\n",
              "  <svg xmlns=\"http://www.w3.org/2000/svg\" height=\"24px\" viewBox=\"0 -960 960 960\">\n",
              "    <path d=\"M120-120v-720h720v720H120Zm60-500h600v-160H180v160Zm220 220h160v-160H400v160Zm0 220h160v-160H400v160ZM180-400h160v-160H180v160Zm440 0h160v-160H620v160ZM180-180h160v-160H180v160Zm440 0h160v-160H620v160Z\"/>\n",
              "  </svg>\n",
              "    </button>\n",
              "\n",
              "  <style>\n",
              "    .colab-df-container {\n",
              "      display:flex;\n",
              "      gap: 12px;\n",
              "    }\n",
              "\n",
              "    .colab-df-convert {\n",
              "      background-color: #E8F0FE;\n",
              "      border: none;\n",
              "      border-radius: 50%;\n",
              "      cursor: pointer;\n",
              "      display: none;\n",
              "      fill: #1967D2;\n",
              "      height: 32px;\n",
              "      padding: 0 0 0 0;\n",
              "      width: 32px;\n",
              "    }\n",
              "\n",
              "    .colab-df-convert:hover {\n",
              "      background-color: #E2EBFA;\n",
              "      box-shadow: 0px 1px 2px rgba(60, 64, 67, 0.3), 0px 1px 3px 1px rgba(60, 64, 67, 0.15);\n",
              "      fill: #174EA6;\n",
              "    }\n",
              "\n",
              "    .colab-df-buttons div {\n",
              "      margin-bottom: 4px;\n",
              "    }\n",
              "\n",
              "    [theme=dark] .colab-df-convert {\n",
              "      background-color: #3B4455;\n",
              "      fill: #D2E3FC;\n",
              "    }\n",
              "\n",
              "    [theme=dark] .colab-df-convert:hover {\n",
              "      background-color: #434B5C;\n",
              "      box-shadow: 0px 1px 3px 1px rgba(0, 0, 0, 0.15);\n",
              "      filter: drop-shadow(0px 1px 2px rgba(0, 0, 0, 0.3));\n",
              "      fill: #FFFFFF;\n",
              "    }\n",
              "  </style>\n",
              "\n",
              "    <script>\n",
              "      const buttonEl =\n",
              "        document.querySelector('#df-a9e2cdfb-92c1-470a-b862-449389680bc4 button.colab-df-convert');\n",
              "      buttonEl.style.display =\n",
              "        google.colab.kernel.accessAllowed ? 'block' : 'none';\n",
              "\n",
              "      async function convertToInteractive(key) {\n",
              "        const element = document.querySelector('#df-a9e2cdfb-92c1-470a-b862-449389680bc4');\n",
              "        const dataTable =\n",
              "          await google.colab.kernel.invokeFunction('convertToInteractive',\n",
              "                                                    [key], {});\n",
              "        if (!dataTable) return;\n",
              "\n",
              "        const docLinkHtml = 'Like what you see? Visit the ' +\n",
              "          '<a target=\"_blank\" href=https://colab.research.google.com/notebooks/data_table.ipynb>data table notebook</a>'\n",
              "          + ' to learn more about interactive tables.';\n",
              "        element.innerHTML = '';\n",
              "        dataTable['output_type'] = 'display_data';\n",
              "        await google.colab.output.renderOutput(dataTable, element);\n",
              "        const docLink = document.createElement('div');\n",
              "        docLink.innerHTML = docLinkHtml;\n",
              "        element.appendChild(docLink);\n",
              "      }\n",
              "    </script>\n",
              "  </div>\n",
              "\n",
              "\n",
              "<div id=\"df-959ac67c-6ca3-47db-bcfa-976bda195a9a\">\n",
              "  <button class=\"colab-df-quickchart\" onclick=\"quickchart('df-959ac67c-6ca3-47db-bcfa-976bda195a9a')\"\n",
              "            title=\"Suggest charts\"\n",
              "            style=\"display:none;\">\n",
              "\n",
              "<svg xmlns=\"http://www.w3.org/2000/svg\" height=\"24px\"viewBox=\"0 0 24 24\"\n",
              "     width=\"24px\">\n",
              "    <g>\n",
              "        <path d=\"M19 3H5c-1.1 0-2 .9-2 2v14c0 1.1.9 2 2 2h14c1.1 0 2-.9 2-2V5c0-1.1-.9-2-2-2zM9 17H7v-7h2v7zm4 0h-2V7h2v10zm4 0h-2v-4h2v4z\"/>\n",
              "    </g>\n",
              "</svg>\n",
              "  </button>\n",
              "\n",
              "<style>\n",
              "  .colab-df-quickchart {\n",
              "      --bg-color: #E8F0FE;\n",
              "      --fill-color: #1967D2;\n",
              "      --hover-bg-color: #E2EBFA;\n",
              "      --hover-fill-color: #174EA6;\n",
              "      --disabled-fill-color: #AAA;\n",
              "      --disabled-bg-color: #DDD;\n",
              "  }\n",
              "\n",
              "  [theme=dark] .colab-df-quickchart {\n",
              "      --bg-color: #3B4455;\n",
              "      --fill-color: #D2E3FC;\n",
              "      --hover-bg-color: #434B5C;\n",
              "      --hover-fill-color: #FFFFFF;\n",
              "      --disabled-bg-color: #3B4455;\n",
              "      --disabled-fill-color: #666;\n",
              "  }\n",
              "\n",
              "  .colab-df-quickchart {\n",
              "    background-color: var(--bg-color);\n",
              "    border: none;\n",
              "    border-radius: 50%;\n",
              "    cursor: pointer;\n",
              "    display: none;\n",
              "    fill: var(--fill-color);\n",
              "    height: 32px;\n",
              "    padding: 0;\n",
              "    width: 32px;\n",
              "  }\n",
              "\n",
              "  .colab-df-quickchart:hover {\n",
              "    background-color: var(--hover-bg-color);\n",
              "    box-shadow: 0 1px 2px rgba(60, 64, 67, 0.3), 0 1px 3px 1px rgba(60, 64, 67, 0.15);\n",
              "    fill: var(--button-hover-fill-color);\n",
              "  }\n",
              "\n",
              "  .colab-df-quickchart-complete:disabled,\n",
              "  .colab-df-quickchart-complete:disabled:hover {\n",
              "    background-color: var(--disabled-bg-color);\n",
              "    fill: var(--disabled-fill-color);\n",
              "    box-shadow: none;\n",
              "  }\n",
              "\n",
              "  .colab-df-spinner {\n",
              "    border: 2px solid var(--fill-color);\n",
              "    border-color: transparent;\n",
              "    border-bottom-color: var(--fill-color);\n",
              "    animation:\n",
              "      spin 1s steps(1) infinite;\n",
              "  }\n",
              "\n",
              "  @keyframes spin {\n",
              "    0% {\n",
              "      border-color: transparent;\n",
              "      border-bottom-color: var(--fill-color);\n",
              "      border-left-color: var(--fill-color);\n",
              "    }\n",
              "    20% {\n",
              "      border-color: transparent;\n",
              "      border-left-color: var(--fill-color);\n",
              "      border-top-color: var(--fill-color);\n",
              "    }\n",
              "    30% {\n",
              "      border-color: transparent;\n",
              "      border-left-color: var(--fill-color);\n",
              "      border-top-color: var(--fill-color);\n",
              "      border-right-color: var(--fill-color);\n",
              "    }\n",
              "    40% {\n",
              "      border-color: transparent;\n",
              "      border-right-color: var(--fill-color);\n",
              "      border-top-color: var(--fill-color);\n",
              "    }\n",
              "    60% {\n",
              "      border-color: transparent;\n",
              "      border-right-color: var(--fill-color);\n",
              "    }\n",
              "    80% {\n",
              "      border-color: transparent;\n",
              "      border-right-color: var(--fill-color);\n",
              "      border-bottom-color: var(--fill-color);\n",
              "    }\n",
              "    90% {\n",
              "      border-color: transparent;\n",
              "      border-bottom-color: var(--fill-color);\n",
              "    }\n",
              "  }\n",
              "</style>\n",
              "\n",
              "  <script>\n",
              "    async function quickchart(key) {\n",
              "      const quickchartButtonEl =\n",
              "        document.querySelector('#' + key + ' button');\n",
              "      quickchartButtonEl.disabled = true;  // To prevent multiple clicks.\n",
              "      quickchartButtonEl.classList.add('colab-df-spinner');\n",
              "      try {\n",
              "        const charts = await google.colab.kernel.invokeFunction(\n",
              "            'suggestCharts', [key], {});\n",
              "      } catch (error) {\n",
              "        console.error('Error during call to suggestCharts:', error);\n",
              "      }\n",
              "      quickchartButtonEl.classList.remove('colab-df-spinner');\n",
              "      quickchartButtonEl.classList.add('colab-df-quickchart-complete');\n",
              "    }\n",
              "    (() => {\n",
              "      let quickchartButtonEl =\n",
              "        document.querySelector('#df-959ac67c-6ca3-47db-bcfa-976bda195a9a button');\n",
              "      quickchartButtonEl.style.display =\n",
              "        google.colab.kernel.accessAllowed ? 'block' : 'none';\n",
              "    })();\n",
              "  </script>\n",
              "</div>\n",
              "\n",
              "    </div>\n",
              "  </div>\n"
            ],
            "application/vnd.google.colaboratory.intrinsic+json": {
              "type": "dataframe"
            }
          },
          "metadata": {},
          "execution_count": 58
        }
      ]
    },
    {
      "cell_type": "markdown",
      "source": [
        "#### 6. Check for duplicate rows\n"
      ],
      "metadata": {
        "id": "BBcNEaGw2pcZ"
      }
    },
    {
      "cell_type": "code",
      "source": [
        "# 6. Check for duplicate rows\n",
        "duplicates = df.duplicated().sum()\n",
        "print(f\"\\nNumber of duplicate rows: {duplicates}\")"
      ],
      "metadata": {
        "colab": {
          "base_uri": "https://localhost:8080/"
        },
        "id": "9vSsNrOB5kEW",
        "outputId": "07e07765-53b5-4cf6-8179-6477c19d5140"
      },
      "execution_count": null,
      "outputs": [
        {
          "output_type": "stream",
          "name": "stdout",
          "text": [
            "\n",
            "Number of duplicate rows: 0\n"
          ]
        }
      ]
    },
    {
      "cell_type": "markdown",
      "source": [
        "#### 7. Check for outliers"
      ],
      "metadata": {
        "id": "7I5VLMty4QF_"
      }
    },
    {
      "cell_type": "code",
      "source": [
        "# Step 1: Identify numerical columns\n",
        "numerical_cols = df.select_dtypes(include=['float64', 'int64']).columns.tolist()\n",
        "\n",
        "# Step 2: Apply Z-Score for each numerical column\n",
        "for col in numerical_cols:\n",
        "    z_scores = np.abs(stats.zscore(df[col]))  # Apply z-score on each numerical column\n",
        "    outliers_z = np.where(z_scores > 3)  # Z-scores greater than 3 are considered outliers\n",
        "    print(f\"Outliers detected at the following positions for {col} (row positions): {outliers_z[0]}\")\n",
        "\n",
        "    print(\"-----\")\n",
        "\n",
        "# Option: Drop rows with outliers based on Z-Score\n",
        "# df_cleaned_z = df[(z_scores < 3).all(axis=1)]\n",
        "\n",
        "# Check how many rows remain after removing outliers\n",
        "# print(f\"Remaining rows after outlier removal: {df_cleaned_z.shape[0]}\")\n"
      ],
      "metadata": {
        "colab": {
          "base_uri": "https://localhost:8080/"
        },
        "id": "gwhFduCb3VH0",
        "outputId": "5c914629-69d1-44b6-ba6a-cf4e72cab027"
      },
      "execution_count": null,
      "outputs": [
        {
          "output_type": "stream",
          "name": "stdout",
          "text": [
            "Outliers detected at the following positions for AGE (row positions): []\n",
            "-----\n",
            "Outliers detected at the following positions for SEX (row positions): []\n",
            "-----\n",
            "Outliers detected at the following positions for INF_ANAM (row positions): []\n",
            "-----\n",
            "Outliers detected at the following positions for STENOK_AN (row positions): []\n",
            "-----\n",
            "Outliers detected at the following positions for FK_STENOK (row positions): []\n",
            "-----\n",
            "Outliers detected at the following positions for IBS_POST (row positions): []\n",
            "-----\n",
            "Outliers detected at the following positions for IBS_NASL (row positions): []\n",
            "-----\n",
            "Outliers detected at the following positions for GB (row positions): []\n",
            "-----\n",
            "Outliers detected at the following positions for SIM_GIPERT (row positions): []\n",
            "-----\n",
            "Outliers detected at the following positions for DLIT_AG (row positions): []\n",
            "-----\n",
            "Outliers detected at the following positions for ZSN_A (row positions): []\n",
            "-----\n",
            "Outliers detected at the following positions for nr_11 (row positions): []\n",
            "-----\n",
            "Outliers detected at the following positions for nr_01 (row positions): []\n",
            "-----\n",
            "Outliers detected at the following positions for nr_02 (row positions): []\n",
            "-----\n",
            "Outliers detected at the following positions for nr_03 (row positions): []\n",
            "-----\n",
            "Outliers detected at the following positions for nr_04 (row positions): []\n",
            "-----\n",
            "Outliers detected at the following positions for nr_07 (row positions): []\n",
            "-----\n",
            "Outliers detected at the following positions for nr_08 (row positions): []\n",
            "-----\n",
            "Outliers detected at the following positions for np_01 (row positions): []\n",
            "-----\n",
            "Outliers detected at the following positions for np_04 (row positions): []\n",
            "-----\n",
            "Outliers detected at the following positions for np_05 (row positions): []\n",
            "-----\n",
            "Outliers detected at the following positions for np_07 (row positions): []\n",
            "-----\n",
            "Outliers detected at the following positions for np_08 (row positions): []\n",
            "-----\n",
            "Outliers detected at the following positions for np_09 (row positions): []\n",
            "-----\n",
            "Outliers detected at the following positions for np_10 (row positions): []\n",
            "-----\n",
            "Outliers detected at the following positions for endocr_01 (row positions): []\n",
            "-----\n",
            "Outliers detected at the following positions for endocr_02 (row positions): []\n",
            "-----\n",
            "Outliers detected at the following positions for endocr_03 (row positions): []\n",
            "-----\n",
            "Outliers detected at the following positions for zab_leg_01 (row positions): []\n",
            "-----\n",
            "Outliers detected at the following positions for zab_leg_02 (row positions): []\n",
            "-----\n",
            "Outliers detected at the following positions for zab_leg_03 (row positions): []\n",
            "-----\n",
            "Outliers detected at the following positions for zab_leg_04 (row positions): []\n",
            "-----\n",
            "Outliers detected at the following positions for zab_leg_06 (row positions): []\n",
            "-----\n",
            "Outliers detected at the following positions for S_AD_KBRIG (row positions): []\n",
            "-----\n",
            "Outliers detected at the following positions for D_AD_KBRIG (row positions): []\n",
            "-----\n",
            "Outliers detected at the following positions for S_AD_ORIT (row positions): []\n",
            "-----\n",
            "Outliers detected at the following positions for D_AD_ORIT (row positions): []\n",
            "-----\n",
            "Outliers detected at the following positions for O_L_POST (row positions): []\n",
            "-----\n",
            "Outliers detected at the following positions for K_SH_POST (row positions): []\n",
            "-----\n",
            "Outliers detected at the following positions for MP_TP_POST (row positions): []\n",
            "-----\n",
            "Outliers detected at the following positions for SVT_POST (row positions): []\n",
            "-----\n",
            "Outliers detected at the following positions for GT_POST (row positions): []\n",
            "-----\n",
            "Outliers detected at the following positions for FIB_G_POST (row positions): []\n",
            "-----\n",
            "Outliers detected at the following positions for ant_im (row positions): []\n",
            "-----\n",
            "Outliers detected at the following positions for lat_im (row positions): []\n",
            "-----\n",
            "Outliers detected at the following positions for inf_im (row positions): []\n",
            "-----\n",
            "Outliers detected at the following positions for post_im (row positions): []\n",
            "-----\n",
            "Outliers detected at the following positions for IM_PG_P (row positions): []\n",
            "-----\n",
            "Outliers detected at the following positions for ritm_ecg_p_01 (row positions): []\n",
            "-----\n",
            "Outliers detected at the following positions for ritm_ecg_p_02 (row positions): []\n",
            "-----\n",
            "Outliers detected at the following positions for ritm_ecg_p_04 (row positions): []\n",
            "-----\n",
            "Outliers detected at the following positions for ritm_ecg_p_06 (row positions): []\n",
            "-----\n",
            "Outliers detected at the following positions for ritm_ecg_p_07 (row positions): []\n",
            "-----\n",
            "Outliers detected at the following positions for ritm_ecg_p_08 (row positions): []\n",
            "-----\n",
            "Outliers detected at the following positions for n_r_ecg_p_01 (row positions): []\n",
            "-----\n",
            "Outliers detected at the following positions for n_r_ecg_p_02 (row positions): []\n",
            "-----\n",
            "Outliers detected at the following positions for n_r_ecg_p_03 (row positions): []\n",
            "-----\n",
            "Outliers detected at the following positions for n_r_ecg_p_04 (row positions): []\n",
            "-----\n",
            "Outliers detected at the following positions for n_r_ecg_p_05 (row positions): []\n",
            "-----\n",
            "Outliers detected at the following positions for n_r_ecg_p_06 (row positions): []\n",
            "-----\n",
            "Outliers detected at the following positions for n_r_ecg_p_08 (row positions): []\n",
            "-----\n",
            "Outliers detected at the following positions for n_r_ecg_p_09 (row positions): []\n",
            "-----\n",
            "Outliers detected at the following positions for n_r_ecg_p_10 (row positions): []\n",
            "-----\n",
            "Outliers detected at the following positions for n_p_ecg_p_01 (row positions): []\n",
            "-----\n",
            "Outliers detected at the following positions for n_p_ecg_p_03 (row positions): []\n",
            "-----\n",
            "Outliers detected at the following positions for n_p_ecg_p_04 (row positions): []\n",
            "-----\n",
            "Outliers detected at the following positions for n_p_ecg_p_05 (row positions): []\n",
            "-----\n",
            "Outliers detected at the following positions for n_p_ecg_p_06 (row positions): []\n",
            "-----\n",
            "Outliers detected at the following positions for n_p_ecg_p_07 (row positions): []\n",
            "-----\n",
            "Outliers detected at the following positions for n_p_ecg_p_08 (row positions): []\n",
            "-----\n",
            "Outliers detected at the following positions for n_p_ecg_p_09 (row positions): []\n",
            "-----\n",
            "Outliers detected at the following positions for n_p_ecg_p_10 (row positions): []\n",
            "-----\n",
            "Outliers detected at the following positions for n_p_ecg_p_11 (row positions): []\n",
            "-----\n",
            "Outliers detected at the following positions for n_p_ecg_p_12 (row positions): []\n",
            "-----\n",
            "Outliers detected at the following positions for fibr_ter_01 (row positions): []\n",
            "-----\n",
            "Outliers detected at the following positions for fibr_ter_02 (row positions): []\n",
            "-----\n",
            "Outliers detected at the following positions for fibr_ter_03 (row positions): []\n",
            "-----\n",
            "Outliers detected at the following positions for fibr_ter_05 (row positions): []\n",
            "-----\n",
            "Outliers detected at the following positions for fibr_ter_06 (row positions): []\n",
            "-----\n",
            "Outliers detected at the following positions for fibr_ter_07 (row positions): []\n",
            "-----\n",
            "Outliers detected at the following positions for fibr_ter_08 (row positions): []\n",
            "-----\n",
            "Outliers detected at the following positions for GIPO_K (row positions): []\n",
            "-----\n",
            "Outliers detected at the following positions for K_BLOOD (row positions): []\n",
            "-----\n",
            "Outliers detected at the following positions for GIPER_NA (row positions): []\n",
            "-----\n",
            "Outliers detected at the following positions for NA_BLOOD (row positions): []\n",
            "-----\n",
            "Outliers detected at the following positions for ALT_BLOOD (row positions): []\n",
            "-----\n",
            "Outliers detected at the following positions for AST_BLOOD (row positions): []\n",
            "-----\n",
            "Outliers detected at the following positions for KFK_BLOOD (row positions): []\n",
            "-----\n",
            "Outliers detected at the following positions for L_BLOOD (row positions): []\n",
            "-----\n",
            "Outliers detected at the following positions for ROE (row positions): []\n",
            "-----\n",
            "Outliers detected at the following positions for TIME_B_S (row positions): []\n",
            "-----\n",
            "Outliers detected at the following positions for R_AB_1_n (row positions): []\n",
            "-----\n",
            "Outliers detected at the following positions for R_AB_2_n (row positions): []\n",
            "-----\n",
            "Outliers detected at the following positions for R_AB_3_n (row positions): []\n",
            "-----\n",
            "Outliers detected at the following positions for NA_KB (row positions): []\n",
            "-----\n",
            "Outliers detected at the following positions for NOT_NA_KB (row positions): []\n",
            "-----\n",
            "Outliers detected at the following positions for LID_KB (row positions): []\n",
            "-----\n",
            "Outliers detected at the following positions for NITR_S (row positions): []\n",
            "-----\n",
            "Outliers detected at the following positions for NA_R_1_n (row positions): []\n",
            "-----\n",
            "Outliers detected at the following positions for NA_R_2_n (row positions): []\n",
            "-----\n",
            "Outliers detected at the following positions for NA_R_3_n (row positions): []\n",
            "-----\n",
            "Outliers detected at the following positions for NOT_NA_1_n (row positions): []\n",
            "-----\n",
            "Outliers detected at the following positions for NOT_NA_2_n (row positions): []\n",
            "-----\n",
            "Outliers detected at the following positions for NOT_NA_3_n (row positions): []\n",
            "-----\n",
            "Outliers detected at the following positions for LID_S_n (row positions): []\n",
            "-----\n",
            "Outliers detected at the following positions for B_BLOK_S_n (row positions): []\n",
            "-----\n",
            "Outliers detected at the following positions for ANT_CA_S_n (row positions): []\n",
            "-----\n",
            "Outliers detected at the following positions for GEPAR_S_n (row positions): []\n",
            "-----\n",
            "Outliers detected at the following positions for ASP_S_n (row positions): []\n",
            "-----\n",
            "Outliers detected at the following positions for TIKL_S_n (row positions): []\n",
            "-----\n",
            "Outliers detected at the following positions for TRENT_S_n (row positions): []\n",
            "-----\n"
          ]
        }
      ]
    },
    {
      "cell_type": "markdown",
      "source": [
        "## Data Pre-Processing\n"
      ],
      "metadata": {
        "id": "MdcYxYVj3J0z"
      }
    },
    {
      "cell_type": "code",
      "source": [
        "# 1. Handling Missing Values\n",
        "# Delete columns with many missing values:\n",
        "missing_values = df.isnull().sum()\n",
        "\n",
        "for col in missing_values.index:\n",
        "  if missing_values[col] > 600:\n",
        "    df = df.drop(columns=[col])\n",
        "print(\"Shape of the dataset:\", df.shape)  # (Rows, Columns)\n",
        "\n",
        "\n",
        "# Impute numerical columns with mean\n",
        "# There is no categorical columns\n",
        "df = df.fillna(df.mean())\n",
        "\n",
        "\n",
        "# 2. Standardize Numerical Features\n",
        "scaler = StandardScaler()\n",
        "X_scaled = scaler.fit_transform(df)"
      ],
      "metadata": {
        "colab": {
          "base_uri": "https://localhost:8080/"
        },
        "id": "TUtgd1kN4Y3u",
        "outputId": "e7234a00-f483-4eda-cd15-a15ae7d29031"
      },
      "execution_count": null,
      "outputs": [
        {
          "output_type": "stream",
          "name": "stdout",
          "text": [
            "Shape of the dataset: (1700, 104)\n"
          ]
        }
      ]
    },
    {
      "cell_type": "markdown",
      "source": [
        "## PCA"
      ],
      "metadata": {
        "id": "CsVIZ_lawGVE"
      }
    },
    {
      "cell_type": "code",
      "source": [
        "# select only two components\n",
        "pca2 = PCA(n_components=2)\n",
        "X_pca2 = pca2.fit_transform(X_scaled)\n",
        "X_pca2.shape\n",
        "pca2.explained_variance_ratio_\n"
      ],
      "metadata": {
        "colab": {
          "base_uri": "https://localhost:8080/"
        },
        "id": "3y3VFFswAJPU",
        "outputId": "3bd1da9f-82cd-4390-84df-772791634f0b"
      },
      "execution_count": null,
      "outputs": [
        {
          "output_type": "execute_result",
          "data": {
            "text/plain": [
              "array([0.03731184, 0.03139274])"
            ]
          },
          "metadata": {},
          "execution_count": 78
        }
      ]
    },
    {
      "cell_type": "markdown",
      "source": [
        "--> You can see that both combined retains only  0.037+0.031=0.0.068 or 6% of important feature information\n",
        "\n"
      ],
      "metadata": {
        "id": "Gk1rGBWHA2CI"
      }
    },
    {
      "cell_type": "code",
      "source": [
        "# Use components such that 80% of variance is retained\n",
        "pca = PCA(n_components=0.80)"
      ],
      "metadata": {
        "id": "kiQv1SN0wHdf"
      },
      "execution_count": null,
      "outputs": []
    },
    {
      "cell_type": "code",
      "source": [
        "X_pca = pca.fit_transform(X_scaled)\n"
      ],
      "metadata": {
        "id": "Z_MwPbktwuAK"
      },
      "execution_count": null,
      "outputs": []
    },
    {
      "cell_type": "code",
      "source": [
        "X_pca.shape\n"
      ],
      "metadata": {
        "colab": {
          "base_uri": "https://localhost:8080/"
        },
        "id": "PCQhCdwo_tWO",
        "outputId": "e31a9f6d-93f6-480a-ef22-b8226cbc5236"
      },
      "execution_count": null,
      "outputs": [
        {
          "output_type": "execute_result",
          "data": {
            "text/plain": [
              "(1700, 62)"
            ]
          },
          "metadata": {},
          "execution_count": 71
        }
      ]
    },
    {
      "cell_type": "code",
      "source": [
        "pca.explained_variance_ratio_\n"
      ],
      "metadata": {
        "colab": {
          "base_uri": "https://localhost:8080/"
        },
        "id": "0EaBELF6_whP",
        "outputId": "a4ec0352-9a4a-4e77-cf58-4b4b943b7e56"
      },
      "execution_count": null,
      "outputs": [
        {
          "output_type": "execute_result",
          "data": {
            "text/plain": [
              "array([0.03731184, 0.03139274, 0.0297114 , 0.02630846, 0.02343024,\n",
              "       0.02093017, 0.01914349, 0.0173993 , 0.01695623, 0.01642539,\n",
              "       0.01553071, 0.01537794, 0.01491557, 0.01466454, 0.01429117,\n",
              "       0.01384476, 0.01349842, 0.0134053 , 0.01314033, 0.01297324,\n",
              "       0.0126387 , 0.01253034, 0.01238012, 0.0121239 , 0.01204259,\n",
              "       0.01184627, 0.01170962, 0.01151797, 0.01143282, 0.01127687,\n",
              "       0.01114316, 0.01096626, 0.01081449, 0.0106437 , 0.01037405,\n",
              "       0.01031562, 0.01021357, 0.010104  , 0.01004118, 0.00996263,\n",
              "       0.00987324, 0.00979362, 0.00973126, 0.00963392, 0.00958154,\n",
              "       0.00956434, 0.00933963, 0.00929547, 0.00916505, 0.00909523,\n",
              "       0.00894455, 0.00884003, 0.00878867, 0.00865495, 0.00860094,\n",
              "       0.00850065, 0.00843391, 0.00825455, 0.00813109, 0.00789476,\n",
              "       0.00784989, 0.00778586])"
            ]
          },
          "metadata": {},
          "execution_count": 72
        }
      ]
    },
    {
      "cell_type": "code",
      "source": [
        "pca.n_components_"
      ],
      "metadata": {
        "colab": {
          "base_uri": "https://localhost:8080/"
        },
        "id": "ugrI7I0X_0a4",
        "outputId": "327ced47-7c67-435b-ef5f-a2887692d908"
      },
      "execution_count": null,
      "outputs": [
        {
          "output_type": "execute_result",
          "data": {
            "text/plain": [
              "62"
            ]
          },
          "metadata": {},
          "execution_count": 73
        }
      ]
    },
    {
      "cell_type": "markdown",
      "source": [
        "--> PCA created 62 components out of 111 original columns\n",
        "\n"
      ],
      "metadata": {
        "id": "e3EswnYH_3YY"
      }
    },
    {
      "cell_type": "code",
      "source": [
        "#Plot the Explained Variance\n",
        "plt.figure(figsize=(10, 6))\n",
        "plt.plot(range(1, len(pca.explained_variance_ratio_) + 1), pca.explained_variance_ratio_.cumsum(), marker='o')\n",
        "plt.title('Cumulative Explained Variance by Number of Principal Components')\n",
        "plt.xlabel('Number of Principal Components')\n",
        "plt.ylabel('Cumulative Explained Variance')\n",
        "plt.grid(True)\n",
        "plt.show()"
      ],
      "metadata": {
        "colab": {
          "base_uri": "https://localhost:8080/",
          "height": 564
        },
        "id": "JKG7jzvHxhS0",
        "outputId": "6462622f-664e-462c-e401-a8941ebe66fb"
      },
      "execution_count": null,
      "outputs": [
        {
          "output_type": "display_data",
          "data": {
            "text/plain": [
              "<Figure size 1000x600 with 1 Axes>"
            ],
            "image/png": "[encoded data removed]"
          },
          "metadata": {}
        }
      ]
    },
    {
      "cell_type": "code",
      "source": [
        "# Step 5: Display the number of components selected\n",
        "print(f\"Number of components selected: {pca.n_components_}\")\n",
        "print(f\"Explained variance ratio of the components: {pca.explained_variance_ratio_}\")\n",
        "\n"
      ],
      "metadata": {
        "colab": {
          "base_uri": "https://localhost:8080/"
        },
        "id": "131i8S1mx1W3",
        "outputId": "11e4df04-d823-49f5-f5e1-d35a78cc7130"
      },
      "execution_count": null,
      "outputs": [
        {
          "output_type": "stream",
          "name": "stdout",
          "text": [
            "Number of components selected: 62\n",
            "Explained variance ratio of the components: [0.03731184 0.03139274 0.0297114  0.02630846 0.02343024 0.02093017\n",
            " 0.01914349 0.0173993  0.01695623 0.01642539 0.01553071 0.01537794\n",
            " 0.01491557 0.01466454 0.01429117 0.01384476 0.01349842 0.0134053\n",
            " 0.01314033 0.01297324 0.0126387  0.01253034 0.01238012 0.0121239\n",
            " 0.01204259 0.01184627 0.01170962 0.01151797 0.01143282 0.01127687\n",
            " 0.01114316 0.01096626 0.01081449 0.0106437  0.01037405 0.01031562\n",
            " 0.01021357 0.010104   0.01004118 0.00996263 0.00987324 0.00979362\n",
            " 0.00973126 0.00963392 0.00958154 0.00956434 0.00933963 0.00929547\n",
            " 0.00916505 0.00909523 0.00894455 0.00884003 0.00878867 0.00865495\n",
            " 0.00860094 0.00850065 0.00843391 0.00825455 0.00813109 0.00789476\n",
            " 0.00784989 0.00778586]\n"
          ]
        }
      ]
    },
    {
      "cell_type": "code",
      "source": [
        "import matplotlib.pyplot as plt\n",
        "import numpy as np\n",
        "\n",
        "# Plot the eigenvalues (variance explained by each component)\n",
        "eigenvalues = pca.explained_variance_\n",
        "\n",
        "plt.figure(figsize=(8, 6))\n",
        "plt.bar(range(1, len(eigenvalues) + 1), eigenvalues, alpha=0.7, color='blue')\n",
        "plt.xlabel('Principal Components')\n",
        "plt.ylabel('Eigenvalues')\n",
        "plt.title('Eigenvalues (Variance of Principal Components)')\n",
        "plt.grid(True)\n",
        "plt.show()\n"
      ],
      "metadata": {
        "colab": {
          "base_uri": "https://localhost:8080/",
          "height": 564
        },
        "id": "I1kGKfoAx3Aw",
        "outputId": "acc860f8-0f56-4191-8e9f-929bc7c2da08"
      },
      "execution_count": null,
      "outputs": [
        {
          "output_type": "display_data",
          "data": {
            "text/plain": [
              "<Figure size 800x600 with 1 Axes>"
            ],
            "image/png": "[encoded data removed]"
          },
          "metadata": {}
        }
      ]
    },
    {
      "cell_type": "code",
      "source": [
        "# Plot the correlation circle for the first two principal components\n",
        "def correlation_circle(pca, X_scaled):\n",
        "    pcs = pca.components_\n",
        "    features = X_scaled.columns\n",
        "    fig, ax = plt.subplots(figsize=(11, 11))\n",
        "\n",
        "    # Circle for reference\n",
        "    circle = plt.Circle((0, 0), 1, color='gray', fill=False)\n",
        "    ax.add_artist(circle)\n",
        "\n",
        "    for i in range(pcs.shape[1]):\n",
        "        plt.arrow(0, 0, pcs[0, i], pcs[1, i], head_width=0.005, head_length=0.005, color='blue')\n",
        "        plt.text(pcs[0, i] * 1.1, pcs[1, i] * 1.1, features[i], color='black')\n",
        "\n",
        "    plt.xlim(-1.1, 1.1)\n",
        "    plt.ylim(-1.1, 1.1)\n",
        "    plt.xlabel('PC1')\n",
        "    plt.ylabel('PC2')\n",
        "    plt.title('Correlation Circle (PC1 vs PC2)')\n",
        "    plt.grid(True)\n",
        "    plt.axhline(0, color='black', linewidth=1)\n",
        "    plt.axvline(0, color='black', linewidth=1)\n",
        "    plt.show()\n",
        "\n",
        "correlation_circle(pca, df)\n"
      ],
      "metadata": {
        "colab": {
          "base_uri": "https://localhost:8080/",
          "height": 949
        },
        "id": "oqkdohsOyrU7",
        "outputId": "c4021bc8-e8e1-4184-d6ab-6915f4e5b9ca"
      },
      "execution_count": null,
      "outputs": [
        {
          "output_type": "display_data",
          "data": {
            "text/plain": [
              "<Figure size 1100x1100 with 1 Axes>"
            ],
            "image/png": "[encoded data removed]"
          },
          "metadata": {}
        }
      ]
    },
    {
      "cell_type": "code",
      "source": [
        "from sklearn.decomposition import PCA\n",
        "\n",
        "# PCA score plot (mapping rows to components)\n",
        "plt.figure(figsize=(10, 6))\n",
        "plt.scatter(X_pca[:, 0], X_pca[:, 1], c=\"yellow\", cmap='coolwarm', alpha=0.6)\n",
        "plt.title('Row Mapping (Biplot)')\n",
        "plt.xlabel('PC1')\n",
        "plt.ylabel('PC2')\n",
        "plt.grid(True)\n",
        "\n",
        "# Adding variable vectors to the biplot\n",
        "for i, feature in enumerate(df.columns):\n",
        "    plt.arrow(0, 0, pca.components_[0, i], pca.components_[1, i], color='r', alpha=0.5)\n",
        "    plt.text(pca.components_[0, i] * 1.1, pca.components_[1, i] * 1.1, feature, color='g', ha='center', va='center')\n",
        "\n",
        "plt.show()\n"
      ],
      "metadata": {
        "colab": {
          "base_uri": "https://localhost:8080/",
          "height": 599
        },
        "id": "305K2UPHyr1h",
        "outputId": "9cf3a0c6-29f7-4ee3-8b0c-40bc9d7286d1"
      },
      "execution_count": null,
      "outputs": [
        {
          "output_type": "stream",
          "name": "stderr",
          "text": [
            "<ipython-input-70-457e9c9fd818>:5: UserWarning: No data for colormapping provided via 'c'. Parameters 'cmap' will be ignored\n",
            "  plt.scatter(X_pca[:, 0], X_pca[:, 1], c=\"yellow\", cmap='coolwarm', alpha=0.6)\n"
          ]
        },
        {
          "output_type": "display_data",
          "data": {
            "text/plain": [
              "<Figure size 1000x600 with 1 Axes>"
            ],
            "image/png": "[encoded data removed]"
          },
          "metadata": {}
        }
      ]
    },
    {
      "cell_type": "code",
      "source": [],
      "metadata": {
        "id": "hzrmolMdzVPr"
      },
      "execution_count": null,
      "outputs": []
    }
  ]
}